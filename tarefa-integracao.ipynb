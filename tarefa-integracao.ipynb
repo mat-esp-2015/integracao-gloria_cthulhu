{
 "cells": [
  {
   "cell_type": "markdown",
   "metadata": {},
   "source": [
    "**Course website**: http://www.leouieda.com/matematica-especial\n",
    "\n",
    "**Note**: This notebook is part of the course \"Matemática Especial I\" of the [Universidade do Estado do Rio de Janeiro](http://www.uerj.br/). All content can be freely used and adapted under the terms of the \n",
    "[Creative Commons Attribution 4.0 International License](http://creativecommons.org/licenses/by/4.0/).\n",
    "\n",
    "![Creative Commons License](https://i.creativecommons.org/l/by/4.0/88x31.png)"
   ]
  },
  {
   "cell_type": "markdown",
   "metadata": {},
   "source": [
    "# Integração Numérica"
   ]
  },
  {
   "cell_type": "markdown",
   "metadata": {},
   "source": [
    "## Imports\n",
    "\n",
    "Coloque **todos** os `import` na célula abaixo. Não se esqueça do `%matplotlib inline` para que os gráficos apareçam no notebook."
   ]
  },
  {
   "cell_type": "code",
   "execution_count": 3,
   "metadata": {
    "collapsed": true
   },
   "outputs": [],
   "source": [
    "# Dessa vez vamos precisar da biblioteca matemática \"math\"\n",
    "# Ela define funções como sin, cos, tan, exp e constantes como pi\n",
    "import math\n",
    "import matplotlib.pyplot as plt\n",
    "\n",
    "%matplotlib inline "
   ]
  },
  {
   "cell_type": "markdown",
   "metadata": {},
   "source": [
    "## Regra dos retângulos\n",
    "\n",
    "O jeito mais simples de integração numérica é a regra dos retângulos. Nela, aproximamos a integral pela soma das áreas de retângulos. Cada retângulo se encontra abaixo de um dos pontos dos dados. A largura do retângulo é o espaçamento entre os dados $\\Delta$. A altura do retângulo é o valor do dado naquela posição $d_i$.\n",
    "\n",
    "Se tivermos nossos dados em um vetor de dados $\\bar{d}$ (**nota**: vetores serão representados com uma barra em cima):\n",
    "\n",
    "$$\n",
    "\\bar{d} = \\left[ d_1 ~ d_2 ~ d_3 ~ \\ldots ~ d_N \\right],\n",
    "$$\n",
    "\n",
    "a integral poderá ser aproximada pela soma das áreas dos retângulos:\n",
    "\n",
    "$$\n",
    "A = \\sum\\limits_{i=1}^{N} \\Delta d_i\n",
    "$$"
   ]
  },
  {
   "cell_type": "markdown",
   "metadata": {},
   "source": [
    "### Algoritmo\n",
    "\n",
    "Utilize a célula vazia abaixo (tipo Markdown) para colocar uma descrição do algoritmo em português (não em código). Não se esqueça de relacionar os passos do algoritmo com as fórmulas matemáticas do método.\n",
    "\n",
    "**Dicas**:\n",
    "\n",
    "* Help sobre Markdown: https://help.github.com/articles/markdown-basics/\n",
    "* Como utilizar fórmulas matemáticas: https://www.sharelatex.com/learn/Mathematical_expressions\n"
   ]
  },
  {
   "cell_type": "markdown",
   "metadata": {},
   "source": [
    "A integral A será encontrada seguindo:\n",
    "1. Cada retângulo será a multiplicação de sua largura Δ por sua altura di.\n",
    "   * Sendo di o valor de d na posição i.\n",
    "2. Faz-se a soma de todos os N retângulos."
   ]
  },
  {
   "cell_type": "markdown",
   "metadata": {},
   "source": [
    "### Dados para teste\n",
    "\n",
    "Vamos utilizar dados gerados a partir de uma função $d(t) = \\cos(t)$ para testar o método de integração. A vantagem do cosseno é que sabemos quanto deve ser a integral:\n",
    "\n",
    "$$\n",
    "\\int\\limits_a^b \\cos(t) dt = \\sin(b) - \\sin(a)\n",
    "$$\n",
    "\n",
    "O código abaixo gera duas listas: uma com os tempos variando entre os limites de integração; outra com os valores correspondentes do cosseno."
   ]
  },
  {
   "cell_type": "code",
   "execution_count": 4,
   "metadata": {
    "collapsed": false
   },
   "outputs": [
    {
     "name": "stdout",
     "output_type": "stream",
     "text": [
      "Espaçamento entre os dados: 0.0320570678937734\n"
     ]
    }
   ],
   "source": [
    "# inicio e fim são os intervalos de integração\n",
    "inicio = 0\n",
    "fim = math.pi/2 # Funções trigonométricas utilizam ângulos em radianos!\n",
    "N = 50\n",
    "# Precisamos saber o intervalo entre cada ponto dos dados\n",
    "# A divisão é por N - 1 pois existem N - 1 intervalos entre N pontos\n",
    "intervalo = (fim - inicio)/(N - 1)\n",
    "print(\"Espaçamento entre os dados:\", intervalo)\n",
    "tempos = []\n",
    "dados = []\n",
    "for i in range(N):\n",
    "    t = inicio + i*intervalo\n",
    "    tempos.append(t)\n",
    "    dados.append(math.cos(t))"
   ]
  },
  {
   "cell_type": "markdown",
   "metadata": {},
   "source": [
    "Utilize a célula abaixo para gerar um gráfico de `dados` por `tempos`."
   ]
  },
  {
   "cell_type": "code",
   "execution_count": 5,
   "metadata": {
    "collapsed": false
   },
   "outputs": [
    {
     "data": {
      "text/plain": [
       "<matplotlib.legend.Legend at 0x6fbc4a8>"
      ]
     },
     "execution_count": 5,
     "metadata": {},
     "output_type": "execute_result"
    },
    {
     "data": {
      "image/png": "[encoded data removed]",
      "text/plain": [
       "<matplotlib.figure.Figure at 0x6d79cf8>"
      ]
     },
     "metadata": {},
     "output_type": "display_data"
    }
   ],
   "source": [
    "plt.figure() #criamos aqui a figura em branco\n",
    "plt.plot(tempos, dados, 'k', label='Dados') #aqui preenchemos-na com os dados organizados\n",
    "plt.title(\"Tempo x Dados\") #título\n",
    "plt.xlabel(u\"Tempo\") #nomeamos o eixo X\n",
    "plt.ylabel(\"Dados\") #nomeamos o eixo Y\n",
    "plt.legend(loc='lower right', fontsize='x-large')"
   ]
  },
  {
   "cell_type": "markdown",
   "metadata": {},
   "source": [
    "### Implementação\n",
    "\n",
    "Implemente a regra dos retângulos para integrar os dados gerados acima. Coloque seu cógido na célula abaixo."
   ]
  },
  {
   "cell_type": "code",
   "execution_count": 6,
   "metadata": {
    "collapsed": false
   },
   "outputs": [
    {
     "name": "stdout",
     "output_type": "stream",
     "text": [
      " \n",
      "Integral:  1.01594289451325\n"
     ]
    }
   ],
   "source": [
    "integral = 0 \n",
    "for x in range(N): # x indica a posicao de cada dado, explorando todos os dados\n",
    "    retangulo = intervalo*dados[x] # cada retangulo e determinado pela multiplicacao entre tempos e dados na mesma posicao\n",
    "    integral = integral+retangulo # a integral considera o somatorio dos retangulos\n",
    "    \n",
    "print(' ')\n",
    "print('Integral: ',integral)"
   ]
  },
  {
   "cell_type": "markdown",
   "metadata": {},
   "source": [
    "Nas células abaixo calcule e imprima:\n",
    "\n",
    "1. A solução analítica (verdadeira) para a integral\n",
    "2. O erro cometido $E = \\left|res_{true} - res_{calc}\\right|$\n",
    "\n",
    "Dica: a função `abs` calcula o valor absoluto de um número."
   ]
  },
  {
   "cell_type": "code",
   "execution_count": 7,
   "metadata": {
    "collapsed": false
   },
   "outputs": [
    {
     "name": "stdout",
     "output_type": "stream",
     "text": [
      "integral analitica:  1.0\n",
      "erro cometido:  0.01594289451325004\n"
     ]
    }
   ],
   "source": [
    "in_anal = math.sin(math.pi/2) - math.sin(0) #criamos a variavel integracao analitica, subtraindo o seno de 0 do seno de pi sobre dois.\n",
    "\n",
    "print(\"integral analitica: \", in_anal) #imprimimos-na\n",
    "\n",
    "erro = in_anal - integral #calculamos o erro das duas integrais\n",
    "\n",
    "if erro < 0:\n",
    "    erro = erro*(-1) #criamos um if para representar o modulo, tornando o vlaor positivo caso ele seja negativo.\n",
    "\n",
    "print(\"erro cometido: \", erro) #imprimimos o erro."
   ]
  },
  {
   "cell_type": "markdown",
   "metadata": {},
   "source": [
    "**Responda na célula abaixo:** Por que o erro não é zero e quais são os fatores que influenciam o erro?"
   ]
  },
  {
   "cell_type": "markdown",
   "metadata": {},
   "source": [
    "O erro cometido existe porque quando fazemos o somatório dos retângulos, uma mínima parte deles fica de fora dessa soma. Quanto maior o número de dados utilizados, menor será o erro gerado."
   ]
  },
  {
   "cell_type": "markdown",
   "metadata": {},
   "source": [
    "### Resultado esperado\n",
    "\n",
    "No caso acima estamos integrando o cosseno de 0 a $\\pi/2$, então o valor esperado da integral é 1. Seu resultado não será exatamente 1 mas deve estar entre 0.9 e 1.1."
   ]
  },
  {
   "cell_type": "markdown",
   "metadata": {},
   "source": [
    "## Regra dos trapézios\n",
    "\n",
    "A regra dos trapézios é parecida com a regra dos retângulos. Mas utilizaremos a área de um trapézio ao invés da área de um retângulo. O trapézio será definido com base em dois pontos adjacentes nos dados ($d_i$ e $d_{i+1}$, por exemplo).\n",
    "\n",
    "$$\n",
    "A = \\sum\\limits_{i=1}^{N - 1} \\Delta \\frac{d_i + d_{i+1}}{2}\n",
    "$$"
   ]
  },
  {
   "cell_type": "markdown",
   "metadata": {},
   "source": [
    "### Algoritmo\n",
    "\n",
    "Descreva abaixo o algoritmo utilizado (em português) para fazer a integração numérica utilizando a regra dos trapézios."
   ]
  },
  {
   "cell_type": "markdown",
   "metadata": {},
   "source": [
    "A integral será: somatório dos \"N\" valores menos um. Cada valor será o intervalo Δ multiplicado pela largura. A largura será o valor di mais o próximo dividido por dois. "
   ]
  },
  {
   "cell_type": "markdown",
   "metadata": {},
   "source": [
    "### Implementação\n",
    "\n",
    "Vamos utilizar os mesmo dados utilizados na regra dos retângulos (na dúvida, rode novamente a célula que gera os dados). Abaixo, escreva e rode o código que faz a integração numérica com a regra dos trapézios. "
   ]
  },
  {
   "cell_type": "code",
   "execution_count": 8,
   "metadata": {
    "collapsed": false
   },
   "outputs": [
    {
     "name": "stdout",
     "output_type": "stream",
     "text": [
      " \n",
      "Integral:  0.9999143605663631\n"
     ]
    }
   ],
   "source": [
    "integral_trap = 0 \n",
    "for y in range(N-1): # y indica a posicao de cada dado, explorando todos os dados\n",
    "    trapezio = intervalo*((dados[y]+dados[y+1])/2)\n",
    "    #cada trapezio sera determinado por (soma dos dois proximos espacamentos dividido por dois) multiplicado pela altura equivalente\n",
    "    integral_trap = integral_trap+trapezio # a integral considera o somatorio dos trapezios\n",
    "    \n",
    "print(' ')\n",
    "print('Integral: ',integral_trap)"
   ]
  },
  {
   "cell_type": "markdown",
   "metadata": {},
   "source": [
    "Calcule e imprima também a solução analíca e o erro cometido."
   ]
  },
  {
   "cell_type": "code",
   "execution_count": 9,
   "metadata": {
    "collapsed": false
   },
   "outputs": [
    {
     "name": "stdout",
     "output_type": "stream",
     "text": [
      "Integral Analitica:  1.0\n",
      "Erro Cometido:  8.563943363693038e-05\n"
     ]
    }
   ],
   "source": [
    "in_anal = math.sin(math.pi/2) - math.sin(0) #criamos a variavel integracao analitica, subtraindo o seno de 0 do seno de pi sobre dois.\n",
    "\n",
    "print(\"Integral Analitica: \", in_anal) #imprimimos-na\n",
    "\n",
    "erro = in_anal - integral_trap #calculamos o erro das duas integrais\n",
    "\n",
    "if erro < 0:\n",
    "    erro = erro*(-1) #criamos um if para representar o modulo, tornando o vlaor positivo caso ele seja negativo.\n",
    "\n",
    "print(\"Erro Cometido: \", erro) #imprimimos o erro."
   ]
  },
  {
   "cell_type": "markdown",
   "metadata": {},
   "source": [
    "**Responda na célula abaixo:** O erro é maior ou menos que para a regra dos retângulos? Por que? Você esperava isso?"
   ]
  },
  {
   "cell_type": "markdown",
   "metadata": {},
   "source": [
    "Menor, pois os trapézios possuem menor área sobrando além da função, oferecendo assim um menor erro na somatória. Sim, eu já esperava."
   ]
  },
  {
   "cell_type": "markdown",
   "metadata": {},
   "source": [
    "### Resultado esperado\n",
    "\n",
    "Novamente, o valor esperado é 1 mas seu resultado não será exatamente 1 (mas deve estar entre 0.9 e 1.1)."
   ]
  },
  {
   "cell_type": "markdown",
   "metadata": {},
   "source": [
    "## Comparação dos dois métodos\n",
    "\n",
    "Vamos comparar o erro de ambos métodos. Uma comparação muito utilizada em métodos numéricos em geral é como o erro varia com o número de dados (ou pontos) utilizados.\n",
    "\n",
    "Nas células abaixo, calcule o erro da integração numérica para diferentes valores de `N`. Os valores de N deverão variar de 10 a 1000 de 10 em 10. Mantenha os intervalos de integração entre $0$ e $\\pi/2$. Faça esse cálculo para os dois métodos: retângulos e trapézios.\n",
    "\n",
    "Ao final, faça um gráfico do erro pelos valores de `N`. O gráfico deverá ter duas curvas, uma para cada método. O eixo y (erros) deverá estar em escala logarítmica.\n",
    "\n",
    "**Dicas**: \n",
    "\n",
    "* Gere uma lista dos valores de `N`.\n",
    "* Para colocar o eixo y em escala log: `plt.yscale('log')`"
   ]
  },
  {
   "cell_type": "code",
   "execution_count": 14,
   "metadata": {
    "collapsed": false
   },
   "outputs": [
    {
     "data": {
      "text/plain": [
       "<matplotlib.legend.Legend at 0x8f22198>"
      ]
     },
     "execution_count": 14,
     "metadata": {},
     "output_type": "execute_result"
    },
    {
     "data": {
      "image/png": "[encoded data removed]",
      "text/plain": [
       "<matplotlib.figure.Figure at 0x78bc240>"
      ]
     },
     "metadata": {},
     "output_type": "display_data"
    }
   ],
   "source": [
    "# inicio e fim são os intervalos de integração\n",
    "inicio = 0\n",
    "fim = math.pi/2 # Funções trigonométricas utilizam ângulos em radianos!\n",
    "N = range(10, 1000, 10)\n",
    "# Precisamos saber o intervalo entre cada ponto dos dados\n",
    "# A divisão é por N - 1 pois existem N - 1 intervalos entre N pontos\n",
    "in_anal = math.sin(math.pi/2) - math.sin(0) #criamos a variavel integracao analitica, subtraindo o seno de 0 do seno de pi sobre dois.\n",
    "lista_erro_ret = []\n",
    "lista_erro_trap = []\n",
    "\n",
    "for N in range(10,1000,10): #faremos os calculos de erro varias vezes, para cada N.\n",
    "    intervalo = (fim - inicio)/(N - 1)\n",
    "    tempos = []\n",
    "    dados = []\n",
    "    for i in range(N):\n",
    "        t = inicio + i*intervalo\n",
    "        tempos.append(t)\n",
    "        dados.append(math.cos(t))\n",
    "        \n",
    "    #agora vamos calcular o somatorio por retangulos\n",
    "    integral = 0 \n",
    "    for x in range(N): # x indica a posicao de cada dado, explorando todos os dados\n",
    "        retangulo = intervalo*dados[x] # cada retangulo e determinado pela multiplicacao entre tempos e dados na mesma posicao\n",
    "        integral = integral+retangulo # a integral considera o somatorio dos retangulos\n",
    "    \n",
    "    erro = in_anal - integral #calculamos o erro para cada elemento\n",
    "    if erro < 0:\n",
    "        erro = erro*(-1) #criamos um if para representar o modulo, tornando o vlaor positivo caso ele seja negativo.\n",
    "    lista_erro_ret.append(erro) #adicionamos o erro encontrado a lista de erros do retangulo\n",
    "    \n",
    "    #agora vamos calcular o somatorio por trapezios\n",
    "    \n",
    "    integral_trap = 0 \n",
    "    for y in range(N-1): # y indica a posicao de cada dado, explorando todos os dados\n",
    "        trapezio = intervalo*((dados[y]+dados[y+1])/2)\n",
    "        #cada trapezio sera determinado por (soma dos dois proximos espacamentos dividido por dois) multiplicado pela altura equivalente\n",
    "        integral_trap = integral_trap+trapezio # a integral considera o somatorio dos trapezios\n",
    "        \n",
    "    erro_trap = in_anal - integral_trap #calculamos o erro para cada elemento\n",
    "    if erro_trap < 0:\n",
    "        erro_trap = erro_trap*(-1) #criamos um if para representar o modulo, tornando o valor positivo caso ele seja negativo. \n",
    "    lista_erro_trap.append(erro_trap) #adicionamos o erro encontrado a lista de erros do trapezio\n",
    "\n",
    "plt.figure() #criamos aqui a figura em branco\n",
    "plt.plot(range(10,1000,10), lista_erro_ret, 'b', label='Retângulos')\n",
    "plt.plot(range(10,1000,10), lista_erro_trap, 'r', label='Trapézios') #aqui preenchemos-na com os dados organizados\n",
    "plt.title(\"Erro de integração numérica\") #título\n",
    "plt.yscale('log')\n",
    "plt.xlabel(u\"Número de dados\") #nomeamos o eixo X\n",
    "plt.ylabel(\"Erro\") #nomeamos o eixo Y\n",
    "plt.legend(loc='upper right')"
   ]
  },
  {
   "cell_type": "markdown",
   "metadata": {},
   "source": [
    "#### **Responda na célula abaixo**: Como o erro varia com `N` para os dois métodos? Aumentar o número de dados de 50 para 200 nos dá a mesma diminuição no erro que aumentar de 650 para 800? Sempre vale a pena utilizar mais dados (lembre-se que a escala é logarítmica)? "
   ]
  },
  {
   "cell_type": "markdown",
   "metadata": {},
   "source": [
    "O erro dos Trapézios é bem menor conforme aumenta-se o número de dados. Ele estabiliza-se conforme aumenta-se o nnúmero de dados. Aumentar de 50 para 200 faz uma diferença maior do que de 650 para 800, embora também seja bom. Sempre vale a pena utilizar mais dados, embora esta vantagem seja cada vez mais irrisória conforme trabalhamos com números de dados cada vez maiores."
   ]
  },
  {
   "cell_type": "markdown",
   "metadata": {},
   "source": [
    "### Resultado esperado\n",
    "\n",
    "O gráfico ao final deverá ser parecido com:\n",
    "\n",
    "![images/erro-por-ndados.png](images/erro-por-ndados.png)"
   ]
  },
  {
   "cell_type": "markdown",
   "metadata": {},
   "source": [
    "## Tarefa bônus: Probabilidades\n",
    "\n",
    "Vamos assumir que uma variável aleatória $x$ segue uma [distribuição normal](https://en.wikipedia.org/wiki/Normal_distribution) com média zero e desvio padrão $\\sigma$. Isso quer dizer que a [densidade de probabilidade](https://en.wikipedia.org/wiki/Probability_density_function) para $x$ é\n",
    "\n",
    "$$\n",
    "f(x) = \\frac{1}{\\sigma\\sqrt{2\\pi}} \\exp \\left( -\\frac{x^2}{2 \\sigma^2} \\right)\n",
    "$$\n",
    "\n",
    "A probabilidade de $x$ cair no intervalo $[a, b]$ é dada por ([refência](https://en.wikipedia.org/wiki/Probability_distribution#Continuous_probability_distribution)):\n",
    "\n",
    "$$\n",
    "P(a \\leq x \\leq b) = \\int\\limits_a^b f(x) dx\n",
    "$$\n",
    "\n",
    "Calcule na célula abaixo qual é a probabilidade de $x$ estar entre $[-\\sigma, +\\sigma]$ para $\\sigma = 5$."
   ]
  },
  {
   "cell_type": "code",
   "execution_count": null,
   "metadata": {
    "collapsed": true
   },
   "outputs": [],
   "source": []
  }
 ],
 "metadata": {
  "kernelspec": {
   "display_name": "Python 3",
   "language": "python",
   "name": "python3"
  },
  "language_info": {
   "codemirror_mode": {
    "name": "ipython",
    "version": 3
   },
   "file_extension": ".py",
   "mimetype": "text/x-python",
   "name": "python",
   "nbconvert_exporter": "python",
   "pygments_lexer": "ipython3",
   "version": "3.4.3"
  }
 },
 "nbformat": 4,
 "nbformat_minor": 0
}
